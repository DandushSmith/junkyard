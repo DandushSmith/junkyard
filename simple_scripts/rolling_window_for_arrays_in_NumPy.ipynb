{
  "nbformat": 4,
  "nbformat_minor": 0,
  "metadata": {
    "colab": {
      "name": "Rolling window for arrays in NumPy.ipynb",
      "provenance": [],
      "collapsed_sections": [],
      "toc_visible": true
    },
    "kernelspec": {
      "name": "python3",
      "display_name": "Python 3"
    },
    "accelerator": "GPU"
  },
  "cells": [
    {
      "cell_type": "markdown",
      "metadata": {
        "id": "fXwLF7pC0LEr",
        "colab_type": "text"
      },
      "source": [
        "# Rolling window for arrays in NumPy\n",
        "\n",
        "[Self-link](https://colab.research.google.com/drive/1WPwxovVxXi9YBrQVUavaSJMt7I0rwlNh)\n",
        "\n",
        "**Disclaimer**: *author could be wrong!* If you see the error, please, write me at [foobar167@gmail.com](mailto:foobar167@gmail.com?subject=%20Rolling%20window%20error).\n",
        "\n",
        "It is possible to implement a rolling window for NumPy arrays and images *without explicit cycles* in Python. As a result the speed of a such rolling window will be comparable to the speed of **C** programming language. Because NumPy library is implemented in the **C** programming language. It is in several thousand times faster than explicit Python `for` cycles.\n",
        "\n",
        "  00. [Introduction](#introduction)\n",
        "  00. [Rolling 1D window for ND array in Numpy](#1d)\n",
        "  00. [Rolling 2D window for ND array in Numpy](#2d)\n",
        "  00. [Rolling 3D window for ND array in Numpy](#3d)\n",
        "  00. [Rolling MD window for ND array, where M ≤ N](#md)\n",
        "  00. [Rolling MD window for ND array for any M and N](#md-extended)"
      ]
    },
    {
      "cell_type": "markdown",
      "metadata": {
        "id": "0JT4s4tn9Gi1",
        "colab_type": "text"
      },
      "source": [
        "## <a name=\"introduction\">Introduction</a>\n",
        "This article is an extension of [my answer](https://stackoverflow.com/a/46237736/7550928) on the StackOverflow. My first experiments with the rolling window are [here](https://github.com/foobar167/junkyard/blob/master/rolling_window.py) and [here](https://github.com/foobar167/junkyard/blob/master/rolling_window_advanced.py).\n",
        "\n",
        "**Practical implementation** of the rolling 2D window for 2D array in NumPy is in the `roll` function of the [`logic_tools.py`](https://github.com/foobar167/junkyard/blob/master/manual_image_annotation1/polygon/logic_tools.py) file of the [Manual image annotation with polygons](https://github.com/foobar167/junkyard/tree/master/manual_image_annotation1) project.\n",
        "\n",
        "Basics rolling window technique for 1D array is already explained [here](https://stackoverflow.com/a/7100681/7550928), [here](https://rigtorp.se/2011/01/01/rolling-statistics-numpy.html) and [here](https://stackoverflow.com/questions/6811183/rolling-window-for-1d-arrays-in-numpy).\n",
        "\n",
        "To understand the topic, you must know what [strides](https://stackoverflow.com/a/53099870/7550928) are."
      ]
    },
    {
      "cell_type": "code",
      "metadata": {
        "id": "fSv9C3X85kmJ",
        "colab_type": "code",
        "colab": {}
      },
      "source": [
        "# Import necessary libraries\n",
        "import numpy as np"
      ],
      "execution_count": 0,
      "outputs": []
    },
    {
      "cell_type": "markdown",
      "metadata": {
        "id": "MyPodYXF2G13",
        "colab_type": "text"
      },
      "source": [
        "## <a name=\"1d\" />1. Rolling 1D window for ND array in Numpy"
      ]
    },
    {
      "cell_type": "code",
      "metadata": {
        "id": "7LscpiwP0Eb0",
        "colab_type": "code",
        "colab": {}
      },
      "source": [
        "# Rolling 1D window for ND array\n",
        "def roll(a,    # ND array\n",
        "         b,    # rolling 1D window array\n",
        "         dx):  # step size (horizontal)\n",
        "    shape = a.shape[:-1] + (int((a.shape[-1] - b.shape[-1]) / dx) + 1,) + b.shape\n",
        "    strides = a.strides[:-1] + (a.strides[-1] * dx,) + a.strides[-1:]\n",
        "    return np.lib.stride_tricks.as_strided(a, shape=shape, strides=strides)"
      ],
      "execution_count": 0,
      "outputs": []
    },
    {
      "cell_type": "markdown",
      "metadata": {
        "id": "fJ5z8nGPFLxB",
        "colab_type": "text"
      },
      "source": [
        "There are 2 major things for newly created array: **shape** and **strides**. Shape of the new array is created via shape of the input ND array and shape of the rolling 1D window. While strides are created only via strides of the input ND array (without rolling window).\n",
        "\n",
        "Step size of the rolling window **dx** is equal to 1, 2, 3, etc. and always horizontal for 1D rolling window.\n",
        "\n",
        "*Shape* consists from 3 terms:\n",
        "  * `a.shape[:-1]` is the array shape remainder for ND arrays where `N > 1`. For `N == 1` array remainder will be equal to empty tuple `t == ()`, so it is not necessary for `N == 1`.\n",
        "  * `(int((a.shape[-1] - b.shape[-1]) / dx) + 1,)` is the number of steps of the rolling 1D window over last dimension of the ND array.\n",
        "  * `b.shape` is the shape of the rolling window.\n",
        "\n",
        "*Strides* also consist from 3 terms:\n",
        "  * `a.strides[:-1]` is the array strides remainder for ND array where `N > 1`. For `N == 1` array remainder will be equal to empty tuple `t == ()`, so it is not necessary for `N == 1`.\n",
        "  * `(a.strides[-1] * dx,)` is the number of bytes between steps of the rolling window. For example, `int` array has 4 bytes stride between neighbour elements, so for step `dx == 2` it should be `4 * 2 = 8` bytes between steps of the rolling window.\n",
        "  * `(a.strides[-1],)` is the stride between neighbour elements of the input ND array. For example, for `int` it should be equal 4 bytes or tuple `(4,)`.\n",
        "\n",
        "  Function [`numpy.lib.stride_tricks.as_strided`](https://docs.scipy.org/doc/numpy-1.13.0/reference/generated/numpy.lib.stride_tricks.as_strided.html) creates a view into the array with the given shape and strides."
      ]
    },
    {
      "cell_type": "code",
      "metadata": {
        "id": "XyNRV0Rq5bp4",
        "colab_type": "code",
        "outputId": "f9cfdea9-0c5c-4b18-add5-76ed5d0e221f",
        "colab": {
          "base_uri": "https://localhost:8080/",
          "height": 348
        }
      },
      "source": [
        "# Tests\n",
        "def show_results(a, b, dx):\n",
        "    axis = a.ndim  # number of dimensions\n",
        "    bool_array = np.all(roll(a, b, dx) == b, axis=axis)\n",
        "    counts = np.count_nonzero(bool_array)\n",
        "    coords = np.transpose(np.nonzero(bool_array)) * [1, dx]\n",
        "    print(\"Found {counts} elements with coordinates:\\n{coords}\".format(\n",
        "        counts=counts, coords=coords))\n",
        "\n",
        "a = np.array([[ 0,  1,  2,  3,  4,  5],\n",
        "              [ 7,  8,  7,  8, 10, 11],\n",
        "              [13, 14, 13, 14,  7,  8],\n",
        "              [19, 20, 19, 20, 13, 14],\n",
        "              [24, 25, 26, 27, 19, 20]], dtype=np.int)\n",
        "\n",
        "# Should find: 3 elements if dx == 1 or 2\n",
        "#              1 element  if dx == 3\n",
        "#              2 elements if dx == 4\n",
        "b1 = np.array([7, 8], dtype=np.int)\n",
        "show_results(a, b1, 1)\n",
        "show_results(a, b1, 2)\n",
        "show_results(a, b1, 3)\n",
        "show_results(a, b1, 4)\n",
        "\n",
        "# Should find: 1 element  if dx == 1\n",
        "#              0 elements if dx == 2\n",
        "b2 = np.array([8, 7], dtype=np.int)\n",
        "print(\"----------\")\n",
        "show_results(a, b2, 1)\n",
        "show_results(a, b2, 2)"
      ],
      "execution_count": 4,
      "outputs": [
        {
          "output_type": "stream",
          "text": [
            "Found 3 elements with coordinates:\n",
            "[[1 0]\n",
            " [1 2]\n",
            " [2 4]]\n",
            "Found 3 elements with coordinates:\n",
            "[[1 0]\n",
            " [1 2]\n",
            " [2 4]]\n",
            "Found 1 elements with coordinates:\n",
            "[[1 0]]\n",
            "Found 2 elements with coordinates:\n",
            "[[1 0]\n",
            " [2 4]]\n",
            "----------\n",
            "Found 1 elements with coordinates:\n",
            "[[1 1]]\n",
            "Found 0 elements with coordinates:\n",
            "[]\n"
          ],
          "name": "stdout"
        }
      ]
    },
    {
      "cell_type": "markdown",
      "metadata": {
        "id": "R7GoWaxG2RpX",
        "colab_type": "text"
      },
      "source": [
        "## <a name=\"2d\" />2. Rolling 2D window for ND array in Numpy"
      ]
    },
    {
      "cell_type": "code",
      "metadata": {
        "id": "tXDRG-5-2jBV",
        "colab_type": "code",
        "colab": {}
      },
      "source": [
        "# Rolling 2D window for ND array\n",
        "def roll(a,    # ND array\n",
        "         b,    # rolling 2D window array\n",
        "         dx,   # horizontal step, number of columns\n",
        "         dy):  # vertical step, number of rows\n",
        "    shape = a.shape[:-2] + \\\n",
        "            (int((a.shape[0] - b.shape[0]) / dy) + 1,) + \\\n",
        "            (int((a.shape[1] - b.shape[1]) / dx) + 1,) + \\\n",
        "            b.shape  # sausage-like shape with 2D cross-section\n",
        "    strides = a.strides[:-2] + \\\n",
        "              (a.strides[0] * dy,) + \\\n",
        "              (a.strides[1] * dx,) + \\\n",
        "              a.strides[-2:]\n",
        "    return np.lib.stride_tricks.as_strided(a, shape=shape, strides=strides)"
      ],
      "execution_count": 0,
      "outputs": []
    },
    {
      "cell_type": "markdown",
      "metadata": {
        "id": "eTz398gz88DF",
        "colab_type": "text"
      },
      "source": [
        "There are also shape and strides like in [section one](#1d), but for rolling 2D window.\n",
        "\n",
        "*Shape* consists from 4 terms: 3 terms like in [section one](#1d) and the 4th term is the number of vertical steps `(int((a.shape[0] - b.shape[0]) / dy) + 1,)` of the rolling 2D window.\n",
        "\n",
        "*Strides* are also similar to [section one](#1d), but with additional stride `(a.strides[0] * dy,)` for vertical step of the rolling 2D window."
      ]
    },
    {
      "cell_type": "code",
      "metadata": {
        "id": "aNxyiRgu52Xv",
        "colab_type": "code",
        "colab": {
          "base_uri": "https://localhost:8080/",
          "height": 348
        },
        "outputId": "e60e3e66-0b9a-4777-c66c-c7eb25ba4aa7"
      },
      "source": [
        "# Tests\n",
        "def show_results(a, b, dx, dy):\n",
        "    axis = a.ndim  # number of dimensions\n",
        "    bool_array = np.all(\n",
        "                   np.all(roll(a, b, dx, dy) == b, axis=axis),\n",
        "                 axis=axis)  # np.all over 2 dimensions of the rolling 2D window\n",
        "    counts = np.count_nonzero(bool_array)\n",
        "    coords = np.transpose(np.nonzero(bool_array)) * [dy, dx]\n",
        "    print(\"Found {counts} elements with coordinates:\\n{coords}\".format(\n",
        "        counts=counts, coords=coords))\n",
        "\n",
        "a = np.array([[ 0,  1,  2,  3,  4,  5],\n",
        "              [ 7,  8,  7,  8, 10, 11],\n",
        "              [13, 14, 13, 14,  7,  8],\n",
        "              [19, 20, 19, 20, 13, 14],\n",
        "              [24, 25, 26, 27, 19, 20]], dtype=np.int)\n",
        "\n",
        "# Should find: 3 elements if dx == 1 or 2\n",
        "#              1 element  if dx == 3\n",
        "#              2 elements if dx == 4\n",
        "b1 = np.array([[ 7,  8],\n",
        "               [13, 14]], dtype=np.int)\n",
        "show_results(a, b1, 1, 1)\n",
        "show_results(a, b1, 2, 1)\n",
        "show_results(a, b1, 3, 1)\n",
        "show_results(a, b1, 4, 1)\n",
        "\n",
        "# Should find: 1 element  if dx == 1\n",
        "#              0 elements if dx == 2\n",
        "b2 = np.array([[ 8,  7],\n",
        "               [14, 13]], dtype=np.int)\n",
        "print(\"----------\")\n",
        "show_results(a, b2, 1, 1)\n",
        "show_results(a, b2, 2, 1)"
      ],
      "execution_count": 11,
      "outputs": [
        {
          "output_type": "stream",
          "text": [
            "Found 3 elements with coordinates:\n",
            "[[1 0]\n",
            " [1 2]\n",
            " [2 4]]\n",
            "Found 3 elements with coordinates:\n",
            "[[1 0]\n",
            " [1 2]\n",
            " [2 4]]\n",
            "Found 1 elements with coordinates:\n",
            "[[1 0]]\n",
            "Found 2 elements with coordinates:\n",
            "[[1 0]\n",
            " [2 4]]\n",
            "----------\n",
            "Found 1 elements with coordinates:\n",
            "[[1 1]]\n",
            "Found 0 elements with coordinates:\n",
            "[]\n"
          ],
          "name": "stdout"
        }
      ]
    },
    {
      "cell_type": "markdown",
      "metadata": {
        "id": "Wxu45czL2kbv",
        "colab_type": "text"
      },
      "source": [
        "## <a name=\"3d\" />3. Rolling 3D window for ND array in Numpy"
      ]
    },
    {
      "cell_type": "code",
      "metadata": {
        "id": "7N9xRHt32mls",
        "colab_type": "code",
        "colab": {}
      },
      "source": [
        "# Rolling 3D window for ND array\n"
      ],
      "execution_count": 0,
      "outputs": []
    },
    {
      "cell_type": "code",
      "metadata": {
        "id": "ZrR91x5456Gp",
        "colab_type": "code",
        "colab": {}
      },
      "source": [
        "# Tests\n"
      ],
      "execution_count": 0,
      "outputs": []
    },
    {
      "cell_type": "markdown",
      "metadata": {
        "id": "tKlbm2gQ4q5A",
        "colab_type": "text"
      },
      "source": [
        "## <a name=\"md\" />4. Rolling MD window for ND array, where M ≤ N"
      ]
    },
    {
      "cell_type": "code",
      "metadata": {
        "id": "xEvD6pdG46IO",
        "colab_type": "code",
        "colab": {}
      },
      "source": [
        "# Rolling MD window for ND array\n"
      ],
      "execution_count": 0,
      "outputs": []
    },
    {
      "cell_type": "code",
      "metadata": {
        "id": "GBv9DKk96kzJ",
        "colab_type": "code",
        "colab": {}
      },
      "source": [
        "# Tests\n"
      ],
      "execution_count": 0,
      "outputs": []
    },
    {
      "cell_type": "markdown",
      "metadata": {
        "id": "AiKxLHRm6mcn",
        "colab_type": "text"
      },
      "source": [
        "## <a name=\"md-extended\" />5. Rolling MD window for ND array for any M and N\n",
        "Can we roll MD window for ND arrays, where M > N? Actually, we can, but only part of the rolling window which **intersects** with ND array."
      ]
    },
    {
      "cell_type": "code",
      "metadata": {
        "id": "3QmqvI6q7NWW",
        "colab_type": "code",
        "colab": {}
      },
      "source": [
        "# Rolling MD window for ND array\n"
      ],
      "execution_count": 0,
      "outputs": []
    },
    {
      "cell_type": "code",
      "metadata": {
        "id": "C_A1tHS17bBT",
        "colab_type": "code",
        "colab": {}
      },
      "source": [
        "# Tests\n"
      ],
      "execution_count": 0,
      "outputs": []
    },
    {
      "cell_type": "code",
      "metadata": {
        "id": "f7KDelO-7c9P",
        "colab_type": "code",
        "colab": {}
      },
      "source": [
        ""
      ],
      "execution_count": 0,
      "outputs": []
    }
  ]
}